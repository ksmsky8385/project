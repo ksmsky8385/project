{
 "cells": [
  {
   "cell_type": "markdown",
   "id": "6c9631f3",
   "metadata": {},
   "source": [
    "### 머신러닝 첫번째 - 학습환경 점수 예측"
   ]
  },
  {
   "cell_type": "code",
   "execution_count": null,
   "id": "ccd351f8",
   "metadata": {},
   "outputs": [],
   "source": []
  }
 ],
 "metadata": {
  "kernelspec": {
   "display_name": "mlenv",
   "language": "python",
   "name": "python3"
  },
  "language_info": {
   "name": "python",
   "version": "3.11.11"
  }
 },
 "nbformat": 4,
 "nbformat_minor": 5
}
