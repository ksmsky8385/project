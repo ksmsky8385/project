{
 "cells": [
  {
   "cell_type": "markdown",
   "id": "ef83e0f5",
   "metadata": {},
   "source": [
    "### 머신러닝 두번째 - 전처리 데이터 이용 머신러닝"
   ]
  },
  {
   "cell_type": "markdown",
   "id": "f5c3e258",
   "metadata": {},
   "source": [
    "오라클 접속 및 필터링된 데이터 불러오기"
   ]
  },
  {
   "cell_type": "code",
   "execution_count": 25,
   "id": "4e704b04",
   "metadata": {},
   "outputs": [
    {
     "name": "stderr",
     "output_type": "stream",
     "text": [
      "C:\\Users\\user\\AppData\\Local\\Temp\\ipykernel_16240\\1727712138.py:18: UserWarning: pandas only supports SQLAlchemy connectable (engine/connection) or database string URI or sqlite3 DBAPI2 connection. Other DBAPI2 objects are not tested. Please consider using SQLAlchemy.\n",
      "  df = pd.read_sql(query, con=conn)\n"
     ]
    }
   ],
   "source": [
    "import oracledb\n",
    "import os\n",
    "import pandas as pd\n",
    "import numpy as np\n",
    "\n",
    "oracledb.init_oracle_client(lib_dir=r\"C:\\Users\\user\\Desktop\\KSM\\Tools\\instantclient-basic-windows.x64-19.25.0.0.0dbru\\instantclient_19_25\")\n",
    "\n",
    "# 1. Oracle 연결 (Thin 모드 사용 예시)\n",
    "conn = oracledb.connect(\n",
    "    user=\"libra\",\n",
    "    password=\"ksm0923\",\n",
    "    dsn=\"localhost:1521/XE\",  # 예: \"localhost:1521/XEPDB1\"\n",
    "    mode=oracledb.DEFAULT_AUTH\n",
    ")\n",
    "\n",
    "# 2. FILTERED 테이블 불러오기\n",
    "query = \"SELECT * FROM LIBRA.FILTERED\"\n",
    "df = pd.read_sql(query, con=conn)\n",
    "\n",
    "# 3. 숫자형 컬럼만 추출\n",
    "df_numeric = df.select_dtypes(include=[\"int\", \"float\", \"object\"])\n",
    "\n",
    "# 4. NumPy 배열로 변환\n",
    "data_array = df_numeric.to_numpy()\n",
    "\n",
    "# 5. 숫자처럼 처리할 컬럼 추출\n",
    "df_checked = df.copy()\n",
    "text_cols = [\"SNM\", \"STYP\", \"FND\", \"RGN\", \"USC\"]\n",
    "target_cols = [col for col in df.columns if col not in text_cols]\n",
    "\n",
    "for col in target_cols:\n",
    "    try:\n",
    "        # 쉼표, 공백 제거 등 전처리 추가 가능\n",
    "        cleaned = df[col].astype(str).str.replace(\",\", \"\", regex=False).str.strip()\n",
    "\n",
    "        # 숫자 변환 시도 (실패 시 예외 발생)\n",
    "        converted = pd.to_numeric(cleaned, errors=\"raise\")\n",
    "\n",
    "        # 성공 시 반영\n",
    "        df_checked[col] = converted\n",
    "\n",
    "    except Exception as e:\n",
    "        print(f\"❌ [ERROR] 컬럼 '{col}' 변환 실패 → {e}\")\n",
    "        raise SystemExit(f\"🚨 데이터 변환 중단: '{col}' 열에 숫자가 아닌 값이 존재합니다.\")\n",
    "\n"
   ]
  },
  {
   "cell_type": "markdown",
   "id": "a5d71cb6",
   "metadata": {},
   "source": [
    "문자형 데이터 중 숫자로 이루어진 데이터 추출 및 숫자형으로 변환작업 확인"
   ]
  },
  {
   "cell_type": "code",
   "execution_count": 26,
   "id": "0c4bd6e0",
   "metadata": {},
   "outputs": [
    {
     "name": "stdout",
     "output_type": "stream",
     "text": [
      "📌 컬럼별 데이터 타입:\n",
      "YR                   ➤ int64\n",
      "RK                   ➤ float64\n",
      "SNM                  ➤ object\n",
      "SCR                  ➤ float64\n",
      "ID                   ➤ float64\n",
      "STYP                 ➤ object\n",
      "FND                  ➤ object\n",
      "RGN                  ➤ object\n",
      "USC                  ➤ object\n",
      "APS_APS              ➤ float64\n",
      "BGT_MCT              ➤ int64\n",
      "BGT_UBGT             ➤ int64\n",
      "BPS_BPS              ➤ float64\n",
      "BR_BCNT_SUM          ➤ int64\n",
      "CPSS_CPS             ➤ float64\n",
      "EHS_EHS              ➤ float64\n",
      "FACLT_EQP_TPC        ➤ int64\n",
      "FACLT_LAS            ➤ float64\n",
      "FACLT_RS_TRS         ➤ int64\n",
      "LBRT_USTL            ➤ int64\n",
      "LPK_LPK              ➤ float64\n",
      "LPS_LPS              ➤ float64\n",
      "LS_LB_SUM            ➤ int64\n",
      "LS_LU_SUM            ➤ int64\n",
      "SPK_SPK              ➤ float64\n",
      "STL_MCT              ➤ int64\n",
      "STL_USTL             ➤ int64\n",
      "VPS_VPS              ➤ float64\n",
      "VUC_UC_LUC           ➤ int64\n",
      "\n",
      "🔢 숫자형 컬럼: ['YR', 'RK', 'SCR', 'ID', 'APS_APS', 'BGT_MCT', 'BGT_UBGT', 'BPS_BPS', 'BR_BCNT_SUM', 'CPSS_CPS', 'EHS_EHS', 'FACLT_EQP_TPC', 'FACLT_LAS', 'FACLT_RS_TRS', 'LBRT_USTL', 'LPK_LPK', 'LPS_LPS', 'LS_LB_SUM', 'LS_LU_SUM', 'SPK_SPK', 'STL_MCT', 'STL_USTL', 'VPS_VPS', 'VUC_UC_LUC']\n",
      "숫자형 컬럼 갯수: 24개\n",
      "🔤 문자형 컬럼: ['SNM', 'STYP', 'FND', 'RGN', 'USC']\n",
      "문자형 컬럼 갯수: 5개\n"
     ]
    }
   ],
   "source": [
    "# 확인용 컬럼별 데이터 타입 출력\n",
    "print(\"📌 컬럼별 데이터 타입:\")\n",
    "for col in df_checked.columns:\n",
    "    print(f\"{col:20} ➤ {df_checked[col].dtype}\")\n",
    "\n",
    "# 숫자형 / 문자형 컬럼 분리 확인\n",
    "numeric_cols = df_checked.select_dtypes(include=[\"number\"]).columns.tolist()\n",
    "object_cols = df_checked.select_dtypes(include=[\"object\"]).columns.tolist()\n",
    "\n",
    "print(\"\\n🔢 숫자형 컬럼:\", numeric_cols)\n",
    "print(f\"숫자형 컬럼 갯수: {len(numeric_cols)}개\")\n",
    "\n",
    "print(\"🔤 문자형 컬럼:\", object_cols)\n",
    "print(f\"문자형 컬럼 갯수: {len(object_cols)}개\")\n"
   ]
  },
  {
   "cell_type": "code",
   "execution_count": 29,
   "id": "664e63c9",
   "metadata": {},
   "outputs": [
    {
     "name": "stdout",
     "output_type": "stream",
     "text": [
      "✅ RMSE: 7.871503365536022\n"
     ]
    }
   ],
   "source": [
    "from sklearn.ensemble import RandomForestRegressor\n",
    "from sklearn.metrics import mean_squared_error\n",
    "from sklearn.model_selection import train_test_split\n",
    "import numpy as np\n",
    "\n",
    "\n",
    "# 1. X, y 분리 (예: df_checked 사용)\n",
    "X = df_checked[['APS_APS', 'BGT_MCT', 'BGT_UBGT', 'BPS_BPS', 'BR_BCNT_SUM', 'CPSS_CPS', 'EHS_EHS', 'FACLT_EQP_TPC', 'FACLT_LAS', 'FACLT_RS_TRS', 'LBRT_USTL', 'LPK_LPK', 'LPS_LPS', 'LS_LB_SUM', 'LS_LU_SUM', 'SPK_SPK', 'STL_MCT', 'STL_USTL', 'VPS_VPS', 'VUC_UC_LUC']]\n",
    "y = df_checked[\"SCR\"]\n",
    "\n",
    "# 2. 데이터 분할\n",
    "X_train, X_test, y_train, y_test = train_test_split(X, y, test_size=0.2, random_state=42)\n",
    "\n",
    "# 3. 모델 훈련\n",
    "model = RandomForestRegressor(random_state=42)\n",
    "model.fit(X_train, y_train)\n",
    "\n",
    "# 4. 평가\n",
    "y_pred = model.predict(X_test)\n",
    "mse = mean_squared_error(y_test, y_pred)\n",
    "rmse = np.sqrt(mse)\n",
    "\n",
    "print(\"✅ RMSE:\", rmse)"
   ]
  },
  {
   "cell_type": "code",
   "execution_count": 65,
   "id": "6fcaeec0",
   "metadata": {},
   "outputs": [],
   "source": [
    "input_columns = [\n",
    "    \"APS_APS\", \"BGT_MCT\", \"BGT_UBGT\", \"BPS_BPS\", \"BR_BCNT_SUM\",\n",
    "    \"CPSS_CPS\", \"EHS_EHS\", \"FACLT_EQP_TPC\", \"FACLT_LAS\", \"FACLT_RS_TRS\",\n",
    "    \"LBRT_USTL\", \"LPK_LPK\", \"LPS_LPS\", \"LS_LB_SUM\", \"LS_LU_SUM\",\n",
    "    \"SPK_SPK\", \"STL_MCT\", \"STL_USTL\", \"VPS_VPS\", \"VUC_UC_LUC\"\n",
    "]\n",
    "\n",
    "def predict_scr_by_school_name(school_name):\n",
    "    query = f\"SELECT * FROM LIBRA.NUM06_2014 WHERE TO_CHAR(SNM) = '{school_name}'\"\n",
    "    df_new = pd.read_sql(query, con=conn)\n",
    "\n",
    "    if df_new.empty:\n",
    "        raise ValueError(f\"❗ 대학 '{school_name}'에 해당하는 데이터가 존재하지 않습니다.\")\n",
    "\n",
    "    \n",
    "    # 전처리 (쉼표 제거, strip 등)\n",
    "    for col in input_columns:\n",
    "        df_new[col] = (\n",
    "            df_new[col]\n",
    "            .astype(str)\n",
    "            .str.replace(\",\", \"\", regex=False)\n",
    "            .str.strip()\n",
    "        )\n",
    "        df_new[col] = pd.to_numeric(df_new[col], errors=\"raise\")\n",
    "\n",
    "    missing_cols = [col for col in input_columns if col not in df_new.columns]\n",
    "    if missing_cols:\n",
    "        raise ValueError(f\"❗ 다음 컬럼이 누락되어 예측이 불가능합니다: {missing_cols}\")\n",
    "\n",
    "\n",
    "    # 입력 피처 추출\n",
    "    X_new = df_new[input_columns]\n",
    "\n",
    "    # 예측\n",
    "    predicted_score = model.predict(X_new)[0]\n",
    "    print(f\"🎯 예측된 SCR 점수 ({school_name}): {predicted_score:.2f}\")\n",
    "    return X_new"
   ]
  },
  {
   "cell_type": "code",
   "execution_count": 69,
   "id": "ff46ee20",
   "metadata": {},
   "outputs": [
    {
     "name": "stdout",
     "output_type": "stream",
     "text": [
      "🎯 예측된 SCR 점수 (서울대학교): 63.77\n",
      "   APS_APS      BGT_MCT      BGT_UBGT     BPS_BPS  BR_BCNT_SUM  CPSS_CPS  \\\n",
      "0      1.7  10008392000  742116268000  167.899994      4699851  333642.1   \n",
      "\n",
      "     EHS_EHS  FACLT_EQP_TPC  FACLT_LAS  FACLT_RS_TRS     LBRT_USTL  LPK_LPK  \\\n",
      "0  53.299999            339      47828          6557  712500000000      3.8   \n",
      "\n",
      "   LPS_LPS  LS_LB_SUM  LS_LU_SUM  SPK_SPK     STL_MCT      STL_USTL  \\\n",
      "0     16.1     548783      31877        4  9337309020  712500000000   \n",
      "\n",
      "      VPS_VPS  VUC_UC_LUC  \n",
      "0  158.300003     4431167  \n",
      "🧪 실행 쿼리: SELECT * FROM LIBRA.FILTERED\n",
      "   APS_APS      BGT_MCT      BGT_UBGT     BPS_BPS  BR_BCNT_SUM  CPSS_CPS  \\\n",
      "0      1.7  10008392000  742116268000  167.899994      4699851  333642.1   \n",
      "\n",
      "     EHS_EHS  FACLT_EQP_TPC  FACLT_LAS  FACLT_RS_TRS     LBRT_USTL  LPK_LPK  \\\n",
      "0  53.299999            339      47828          6557  712500000000      3.8   \n",
      "\n",
      "   LPS_LPS  LS_LB_SUM  LS_LU_SUM  SPK_SPK     STL_MCT      STL_USTL  \\\n",
      "0     16.1     548783      31877        4  9337309020  712500000000   \n",
      "\n",
      "      VPS_VPS  VUC_UC_LUC  \n",
      "0  158.300003     4431167  \n"
     ]
    },
    {
     "name": "stderr",
     "output_type": "stream",
     "text": [
      "C:\\Users\\user\\AppData\\Local\\Temp\\ipykernel_16240\\3482769199.py:10: UserWarning: pandas only supports SQLAlchemy connectable (engine/connection) or database string URI or sqlite3 DBAPI2 connection. Other DBAPI2 objects are not tested. Please consider using SQLAlchemy.\n",
      "  df_new = pd.read_sql(query, con=conn)\n"
     ]
    }
   ],
   "source": [
    "X_new = predict_scr_by_school_name(\"서울대학교\")\n",
    "print(X_new)\n",
    "print(\"🧪 실행 쿼리:\", query)\n",
    "\n",
    "print(X_new[input_columns])"
   ]
  },
  {
   "cell_type": "code",
   "execution_count": 39,
   "id": "895c48ff",
   "metadata": {},
   "outputs": [
    {
     "name": "stdout",
     "output_type": "stream",
     "text": [
      "count    533.000000\n",
      "mean      64.596398\n",
      "std       12.146388\n",
      "min       42.520000\n",
      "25%       49.840000\n",
      "50%       69.000000\n",
      "75%       72.600000\n",
      "max       86.700000\n",
      "Name: SCR, dtype: float64\n"
     ]
    }
   ],
   "source": [
    "print(y.describe())"
   ]
  },
  {
   "cell_type": "code",
   "execution_count": 40,
   "id": "3ef3cd56",
   "metadata": {},
   "outputs": [
    {
     "name": "stdout",
     "output_type": "stream",
     "text": [
      "     APS_APS     BGT_MCT      BGT_UBGT     BPS_BPS  BR_BCNT_SUM  CPSS_CPS  \\\n",
      "298      1.5  4816440000  349899040000  122.199997      3404347  177966.0   \n",
      "403      0.0   250000000   25541708197   86.699997       111142  202476.0   \n",
      "447      0.7  2342492720  197592086000   72.599998      1212065  137578.9   \n",
      "311      1.4  1565804000  156588915000   99.900002      1387026  112645.9   \n",
      "140      1.3  2740000000  296215957000   78.599998      1619607  148213.3   \n",
      "\n",
      "       EHS_EHS  FACLT_EQP_TPC     FACLT_LAS  FACLT_RS_TRS     LBRT_USTL  \\\n",
      "298  36.299999            190  41434.398438          5478  357671453238   \n",
      "403   0.000000              0      0.000000             0   23776984973   \n",
      "447  50.599998             20  11575.000000          2502  228040965881   \n",
      "311  92.500000            192  19671.199219          2838  162244713106   \n",
      "140  49.400002            392  26533.000000          3930  267846212000   \n",
      "\n",
      "     LPK_LPK  LPS_LPS  LS_LB_SUM  LS_LU_SUM  SPK_SPK     STL_MCT  \\\n",
      "298      1.7      1.5     172578      10636      1.7  4958487940   \n",
      "403      0.0      0.8       2093        305      1.2   259574187   \n",
      "447      0.9      5.2     118096       7838      0.8  2295503921   \n",
      "311      1.4      7.8     143903       9247      1.3  1564764183   \n",
      "140      1.3      7.7     212027      17235      1.2  3055120983   \n",
      "\n",
      "         STL_USTL    VPS_VPS  VUC_UC_LUC  \n",
      "298  357671453238  46.900002     1306658  \n",
      "403   23776984973   2.300000        2986  \n",
      "447  228040965881  20.200001      337421  \n",
      "311  162244713106  49.299999      684201  \n",
      "140  267846212000  84.500000     1742181  \n",
      "APS_APS          1.142330e+00\n",
      "BGT_MCT          2.286672e+09\n",
      "BGT_UBGT         2.102852e+11\n",
      "BPS_BPS          2.517321e+01\n",
      "BR_BCNT_SUM      9.123679e+05\n",
      "CPSS_CPS         2.284539e+05\n",
      "EHS_EHS          2.792321e+01\n",
      "FACLT_EQP_TPC    1.876302e+02\n",
      "FACLT_LAS        1.443876e+04\n",
      "FACLT_RS_TRS     1.872659e+03\n",
      "LBRT_USTL        2.039558e+11\n",
      "LPK_LPK          5.749223e-01\n",
      "LPS_LPS          3.406012e+00\n",
      "LS_LB_SUM        1.155090e+05\n",
      "LS_LU_SUM        7.959072e+03\n",
      "SPK_SPK          7.244813e-01\n",
      "STL_MCT          2.228336e+09\n",
      "STL_USTL         2.039558e+11\n",
      "VPS_VPS          9.198585e+01\n",
      "VUC_UC_LUC       1.735955e+06\n",
      "dtype: float64\n"
     ]
    }
   ],
   "source": [
    "print(X_train.head())\n",
    "print(X_train.std())  # 표준편차 0이면 문제!"
   ]
  },
  {
   "cell_type": "code",
   "execution_count": 41,
   "id": "726de303",
   "metadata": {},
   "outputs": [
    {
     "ename": "NameError",
     "evalue": "name 'X_new' is not defined",
     "output_type": "error",
     "traceback": [
      "\u001b[31m---------------------------------------------------------------------------\u001b[39m",
      "\u001b[31mNameError\u001b[39m                                 Traceback (most recent call last)",
      "\u001b[36mCell\u001b[39m\u001b[36m \u001b[39m\u001b[32mIn[41]\u001b[39m\u001b[32m, line 1\u001b[39m\n\u001b[32m----> \u001b[39m\u001b[32m1\u001b[39m \u001b[38;5;28mprint\u001b[39m(X_new[input_columns])\n",
      "\u001b[31mNameError\u001b[39m: name 'X_new' is not defined"
     ]
    }
   ],
   "source": []
  }
 ],
 "metadata": {
  "kernelspec": {
   "display_name": "mlenv",
   "language": "python",
   "name": "python3"
  },
  "language_info": {
   "codemirror_mode": {
    "name": "ipython",
    "version": 3
   },
   "file_extension": ".py",
   "mimetype": "text/x-python",
   "name": "python",
   "nbconvert_exporter": "python",
   "pygments_lexer": "ipython3",
   "version": "3.11.11"
  }
 },
 "nbformat": 4,
 "nbformat_minor": 5
}
